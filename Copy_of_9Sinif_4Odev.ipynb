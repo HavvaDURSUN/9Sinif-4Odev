{
  "nbformat": 4,
  "nbformat_minor": 0,
  "metadata": {
    "colab": {
      "name": "Copy of 9Sinif-4Odev.ipynb",
      "provenance": [],
      "collapsed_sections": [],
      "include_colab_link": true
    },
    "kernelspec": {
      "name": "python3",
      "display_name": "Python 3"
    }
  },
  "cells": [
    {
      "cell_type": "markdown",
      "metadata": {
        "id": "view-in-github",
        "colab_type": "text"
      },
      "source": [
        "<a href=\"https://colab.research.google.com/github/HavvaDURSUN/9Sinif-4Odev/blob/master/Copy_of_9Sinif_4Odev.ipynb\" target=\"_parent\"><img src=\"https://colab.research.google.com/assets/colab-badge.svg\" alt=\"Open In Colab\"/></a>"
      ]
    },
    {
      "cell_type": "markdown",
      "metadata": {
        "id": "mmLIOlO1MwFm",
        "colab_type": "text"
      },
      "source": [
        "Kod yazmak istediğinde ``+ Code`` tuşuna basman, metin girmek istediğinde ``+ Text`` düğmesine basman yeterli. Metin  yazarken Colab'a ait özel markdown kelime işlemcesini kullanacağız. Bu Github'ın Markdown  bazı bakımdan farklı komutlar içerecek. \n",
        "\n",
        "Örnek olarak matematiksel formüller kollunacağız. Bir satır içeresinde matamatiksel ifade yazmak istersen, matematiksel ifadeyi iki dolar işareti arasına alman gerekir. Örnek olarak $x^2$ yazmak için yapmamız gereken \\\\$x^2\\$ olarak yazman gerek.  Pisagor teoremi örnek olarak $a^2+b^2=c^2$ şeklinde verilir.  Eğer matematiği iki satır arasında göstermek istiyorsan, \n",
        "\n",
        "\\\\$$\n",
        "\n",
        "x^2+y^2=c^2\n",
        "\n",
        "\\$$\n",
        "\n",
        "olarak yazabilirsin. Mesela yukarıdaki denklemi şu şekilde yazabiliriz. \n",
        "\n",
        "$$\n",
        "x^2+y^2=c^2 \n",
        "$$\n",
        "Mesela matematiğin  en ünlü formülünü yazalım:\n",
        "\n",
        "$$\n",
        "e^{i\\pi}+1=0 \n",
        "$$\n",
        "\n",
        "Bu formülün niçin matematiğin en ünlü formülü olduğunu öğrenmek için [buraya](https://www.youtube.com/watch?v=IUTGFQpKaPU) bakabilirsin. Tabiki de daha güzel denklemleri de yazabilirsin. Bunun gibi:\n",
        "\n",
        "\\begin{align} \n",
        "(a+b)^3 &= (a+b)^2(a+b)\\\\\n",
        "&=(a^2+2ab+b^2)(a+b)\\\\\n",
        "&=(a^3+2a^2b+ab^2) + (a^2b+2ab^2+b^3)\\\\\n",
        "&=a^3+3a^2b+3ab^2+b^3\n",
        "\\end{align}\n",
        "\n",
        "Matematik ve fizik formüllerini kullanırken LaTeX matematik yazım kurallarını kullanacağız. Daha fazla bilgi için [buraya](https://math.meta.stackexchange.com/questions/5020/mathjax-basic-tutorial-and-quick-reference) bakabilirsin.\n",
        "\n",
        "**Ödev 1** Yukarıda verilen bağlantıyı kullanırak LaTeX ile bir fizik veya matematik formülünü aşağıya yaz. \n",
        "\n",
        "*Not:* Colab LaTeX'in bütün yazım kurallarını kapsamıyor. Onun için LaTeX'in bütün özelliklerini Colab'da kullanımıyabilirsin. Yukarıdaki bağlantıdaki bazı örnekleri yazamıyabilirsin. \n",
        "\n",
        "1'den $n$'e kadar sayıların toplamını kısaca $\\sum_{}{}$ işareti ile göstereceğim. Örnek olarak 1'den n'e kadar sayıların toplamı\n",
        "\n",
        "$$\n",
        "\\sum_{i=0}^n i = \\frac{n(n+1)}{2}\n",
        "$$\n",
        "\n",
        "formülü ile verilir. \n",
        "\n",
        "Örnek olarak 1'den 100'ye kadar sayıların toplamını kısaca \n",
        "\n",
        "$$\n",
        "\\sum_{i=0}^{100} i = \\frac{100(100+1)}{2}\n",
        "$$\n",
        "\n",
        "verilir. Yukarıdaki toplamın cevabı 5050'dir. Yukarıdaki formülü ilkokulda Gauss'un bulduğu  söyleniyor. Bunu aşağıdaki kodu kullanarak ispatlıyalım.\n",
        "\n"
      ]
    },
    {
      "cell_type": "code",
      "metadata": {
        "id": "IrZOY77Ij6MP",
        "colab_type": "code",
        "colab": {}
      },
      "source": [
        "sum = 0\n",
        "for i in range(1,101):\n",
        "  sum = sum +i\n",
        "print (sum)       "
      ],
      "execution_count": 0,
      "outputs": []
    },
    {
      "cell_type": "markdown",
      "metadata": {
        "id": "sp3NDmjvQGVM",
        "colab_type": "text"
      },
      "source": [
        "Şimdi de yukarıda yazdığımız kodu bir fonksiyonun içine koyalım."
      ]
    },
    {
      "cell_type": "code",
      "metadata": {
        "colab_type": "code",
        "id": "ySGh-FCUQXNI",
        "colab": {}
      },
      "source": [
        "def Gauss(n):\n",
        "  sum = 0\n",
        "  for i in range(1,101):\n",
        "    sum = sum +i\n",
        "  return sum\n",
        "\n",
        "\n"
      ],
      "execution_count": 0,
      "outputs": []
    },
    {
      "cell_type": "code",
      "metadata": {
        "id": "6Kl9_kGB8Sjj",
        "colab_type": "code",
        "outputId": "70385fc4-ae53-4c27-f81f-de4358b71105",
        "colab": {
          "base_uri": "https://localhost:8080/",
          "height": 35
        }
      },
      "source": [
        "Gauss(100)"
      ],
      "execution_count": 0,
      "outputs": [
        {
          "output_type": "execute_result",
          "data": {
            "text/plain": [
              "5050"
            ]
          },
          "metadata": {
            "tags": []
          },
          "execution_count": 5
        }
      ]
    },
    {
      "cell_type": "markdown",
      "metadata": {
        "id": "A5OmcXjHNM10",
        "colab_type": "text"
      },
      "source": [
        "# *Benim Formülüm:*#\n",
        "\n",
        "# **faktöriyel**\n",
        "\n",
        "$n!=n(n-1)(n-2)...3.2.1$"
      ]
    },
    {
      "cell_type": "code",
      "metadata": {
        "id": "kxVpbYi6NNI4",
        "colab_type": "code",
        "outputId": "95e72d05-0634-44fe-8fed-8b6169c40721",
        "colab": {
          "base_uri": "https://localhost:8080/",
          "height": 34
        }
      },
      "source": [
        "faktoriyel = int(7)\n",
        "sayi=1\n",
        "for i in range(faktoriyel):\n",
        "  sayi = sayi* (i+1)\n",
        "print(\"faktöriyel\",sayi)"
      ],
      "execution_count": 0,
      "outputs": [
        {
          "output_type": "stream",
          "text": [
            "faktöriyel 5040\n"
          ],
          "name": "stdout"
        }
      ]
    },
    {
      "cell_type": "markdown",
      "metadata": {
        "id": "B2qGd7668zA_",
        "colab_type": "text"
      },
      "source": [
        "Şimdi de *Collatz Sanısı'na* (Collatz Conjecture) bakalım. Biz buna sanı diyeceğiz. Matematiksel olarak ispatlanmadı ama şimdiye kadar yanlışlanamadı da. Eğer doğru olduğunu ispatlarsan Matematikteki en büyük ödülü (Field Medal) alacağın kesindir. (Matematikte Nobel ödülü verilmiyor.)\n",
        "\n",
        "**Collatz Sanısı:** Verilen bir $n$ ile diziye başlayın. Eğer $n$ çift ise ikiye bölün, eğer tek sayı ise bu sayıyı 3 ile çarpıp 1 ekleyin. Bu dizi 1'e ulaştığında dizi sonar erer.  Hangi $n$ ile başlarsak başlayalım, her zaman 1'e ulaşır. Bunu matematiksel ifade olarak yazarsak:\n",
        "\n",
        "$$\n",
        "f(n) =\n",
        "\\begin{cases}\n",
        "n/2,  & \\text{eğer $n$ çift ise } \\\\\n",
        "3n+1, & \\text{eğer $n$ is tek ise}\n",
        "\\end{cases}\n",
        "$$\n",
        "\n",
        "Yukarıdaki ifadeyi kodun içine koyalım:\n",
        "\n",
        "\n",
        "\n",
        "\n"
      ]
    },
    {
      "cell_type": "code",
      "metadata": {
        "id": "16IyPJ7oECou",
        "colab_type": "code",
        "colab": {}
      },
      "source": [
        "def Collatz(n):\n",
        "  while n>1:\n",
        "    if n%2 == 0: # % operatörü bölümden kalan sayıyı verir. Kendin dene istersen\n",
        "       n = n/2\n",
        "    else:\n",
        "      n= 3*n +1\n",
        "    print(n, end=\" \") # end' burada çıktıyı bir sıraya koymak için kullandım. \n"
      ],
      "execution_count": 0,
      "outputs": []
    },
    {
      "cell_type": "code",
      "metadata": {
        "id": "90Z7NcTzEocH",
        "colab_type": "code",
        "outputId": "0f4c3854-7202-4cd4-f526-fa64ab4b6c96",
        "colab": {
          "base_uri": "https://localhost:8080/",
          "height": 35
        }
      },
      "source": [
        "Collatz(19)"
      ],
      "execution_count": 0,
      "outputs": [
        {
          "output_type": "stream",
          "text": [
            "58 29.0 88.0 44.0 22.0 11.0 34.0 17.0 52.0 26.0 13.0 40.0 20.0 10.0 5.0 16.0 8.0 4.0 2.0 1.0 "
          ],
          "name": "stdout"
        }
      ]
    },
    {
      "cell_type": "markdown",
      "metadata": {
        "id": "DVjQ5sIgEpgu",
        "colab_type": "text"
      },
      "source": [
        "Yukarıdaki fonksiyonu değiştirip, ulaştığı en yüksek sayıyı da bulan bir fonksiyon yazalım. Örnek olarak şöyle bir çıktı versin:\n",
        "\n",
        "Collatz sanısı 19 için doğrulandı ve bu sınama sonunda ulaşılan en yüksek sayı 88 oldu. "
      ]
    },
    {
      "cell_type": "code",
      "metadata": {
        "id": "7s-g6YeETcYz",
        "colab_type": "code",
        "colab": {}
      },
      "source": [
        ""
      ],
      "execution_count": 0,
      "outputs": []
    },
    {
      "cell_type": "code",
      "metadata": {
        "colab_type": "code",
        "id": "SDVcGZ5zTgYw",
        "colab": {}
      },
      "source": [
        "def Collatz_max(n):\n",
        "  n_init = n\n",
        "  max_number = n\n",
        "  while n>1:\n",
        "    if n%2 == 0: # % operatörü bölümden kalan sayıyı verir. Kendin dene istersen\n",
        "       n = n/2\n",
        "    else:\n",
        "      n= 3*n +1\n",
        "    if (n > max_number):\n",
        "      max_number = n\n",
        "  print(\"Collatz sanısı \" + str(n_init) + \" için doğrulandı ve bu sınama sonunda ulaşılan en yüksek sayı \" + str(max_number)+\" oldu\")\n",
        "\n"
      ],
      "execution_count": 0,
      "outputs": []
    },
    {
      "cell_type": "code",
      "metadata": {
        "id": "5PrYG82oTZfK",
        "colab_type": "code",
        "outputId": "88c7ea31-5ba6-4459-b1d2-b7c1ee8c4503",
        "colab": {
          "base_uri": "https://localhost:8080/",
          "height": 35
        }
      },
      "source": [
        "Collatz_max(19)"
      ],
      "execution_count": 0,
      "outputs": [
        {
          "output_type": "stream",
          "text": [
            "Collatz sanısı 19 için doğrulandı ve bu sınama sonunda ulaşılan en yüksek sayı 88.0 oldu\n"
          ],
          "name": "stdout"
        }
      ]
    },
    {
      "cell_type": "markdown",
      "metadata": {
        "id": "EvbmvSfdEuCi",
        "colab_type": "text"
      },
      "source": [
        ""
      ]
    },
    {
      "cell_type": "markdown",
      "metadata": {
        "id": "f3hMufYVguPz",
        "colab_type": "text"
      },
      "source": [
        "**Ödev 2 (Çözümlü):** Matematikçi Leibniz aşağıdaki formülü vermiştir.\n",
        "\n",
        "$$\n",
        "\\frac{\\pi}{4}= \\sum_{k=0}^{\\infty}\\frac{(-1)^k}{2k+1}\n",
        "$$\n",
        "Yukarıdaki formülün açılımı\n",
        "\n",
        "$$\n",
        "\\frac{\\pi}{4}= 1 - \\frac{1}{3}+\\frac{1}{5}-\\frac{1}{7}+\\frac{1}{9}-\\ldots\n",
        "$$\n",
        "şeklinde yazabiliriz. ```Leibniz_pi(n)``` isimli bir fonksiyon yazınız ve fonksiyon ```n```'e kadar Leibniz formülünü kullansın. Sonuçta $\\pi$'nin değerini ekrana bassın. "
      ]
    },
    {
      "cell_type": "code",
      "metadata": {
        "id": "SborILDAg5kt",
        "colab_type": "code",
        "colab": {}
      },
      "source": [
        "def Leibniz_pi(n):\n",
        "  sum=0\n",
        "  for i in range(0,n+1):\n",
        "    sum= sum+(-1)**i/(2*i+1)\n",
        "  result = sum*4\n",
        "  print(\"Pi=\"+ str(result))\n"
      ],
      "execution_count": 0,
      "outputs": []
    },
    {
      "cell_type": "code",
      "metadata": {
        "id": "8ehJhBFZjaLb",
        "colab_type": "code",
        "outputId": "1db2c2f4-04c8-4dd9-e796-003adf6d0637",
        "colab": {
          "base_uri": "https://localhost:8080/",
          "height": 35
        }
      },
      "source": [
        "Leibniz_pi(1000)"
      ],
      "execution_count": 0,
      "outputs": [
        {
          "output_type": "stream",
          "text": [
            "Pi=3.1425916543395442\n"
          ],
          "name": "stdout"
        }
      ]
    },
    {
      "cell_type": "markdown",
      "metadata": {
        "id": "yo6P_UaxjjIS",
        "colab_type": "text"
      },
      "source": [
        "**Ödev 3:**  3 ve 5'in katları\n",
        "\n",
        "Eğer 10'dan düşük (10 dahil değil) sayılardan 3 veya 5'in katları olan sayıları dizersek, 3,5,6,9 sayılarını elde ederiz. Bu sayıların toplamı 23 dir.\n",
        "\n",
        "1000'den düşük olan (1000 dahil değil) 3 veya 5'in katları olan sayıların toplamını yazan bir fonksiyon yazınız."
      ]
    },
    {
      "cell_type": "code",
      "metadata": {
        "id": "O4OKVr1VnH_D",
        "colab_type": "code",
        "outputId": "141966c4-4a8c-4799-fcba-a52c4b01447d",
        "colab": {
          "base_uri": "https://localhost:8080/",
          "height": 1000
        }
      },
      "source": [
        "sum=0\n",
        "for n in range(1000):\n",
        "  if n%3==0 or n%5==0:\n",
        "    print(n,end=\"->\") \n",
        "    sum+=n\n",
        "    print(sum)\n"
      ],
      "execution_count": 0,
      "outputs": [
        {
          "output_type": "stream",
          "text": [
            "0->0\n",
            "3->3\n",
            "5->8\n",
            "6->14\n",
            "9->23\n",
            "10->33\n",
            "12->45\n",
            "15->60\n",
            "18->78\n",
            "20->98\n",
            "21->119\n",
            "24->143\n",
            "25->168\n",
            "27->195\n",
            "30->225\n",
            "33->258\n",
            "35->293\n",
            "36->329\n",
            "39->368\n",
            "40->408\n",
            "42->450\n",
            "45->495\n",
            "48->543\n",
            "50->593\n",
            "51->644\n",
            "54->698\n",
            "55->753\n",
            "57->810\n",
            "60->870\n",
            "63->933\n",
            "65->998\n",
            "66->1064\n",
            "69->1133\n",
            "70->1203\n",
            "72->1275\n",
            "75->1350\n",
            "78->1428\n",
            "80->1508\n",
            "81->1589\n",
            "84->1673\n",
            "85->1758\n",
            "87->1845\n",
            "90->1935\n",
            "93->2028\n",
            "95->2123\n",
            "96->2219\n",
            "99->2318\n",
            "100->2418\n",
            "102->2520\n",
            "105->2625\n",
            "108->2733\n",
            "110->2843\n",
            "111->2954\n",
            "114->3068\n",
            "115->3183\n",
            "117->3300\n",
            "120->3420\n",
            "123->3543\n",
            "125->3668\n",
            "126->3794\n",
            "129->3923\n",
            "130->4053\n",
            "132->4185\n",
            "135->4320\n",
            "138->4458\n",
            "140->4598\n",
            "141->4739\n",
            "144->4883\n",
            "145->5028\n",
            "147->5175\n",
            "150->5325\n",
            "153->5478\n",
            "155->5633\n",
            "156->5789\n",
            "159->5948\n",
            "160->6108\n",
            "162->6270\n",
            "165->6435\n",
            "168->6603\n",
            "170->6773\n",
            "171->6944\n",
            "174->7118\n",
            "175->7293\n",
            "177->7470\n",
            "180->7650\n",
            "183->7833\n",
            "185->8018\n",
            "186->8204\n",
            "189->8393\n",
            "190->8583\n",
            "192->8775\n",
            "195->8970\n",
            "198->9168\n",
            "200->9368\n",
            "201->9569\n",
            "204->9773\n",
            "205->9978\n",
            "207->10185\n",
            "210->10395\n",
            "213->10608\n",
            "215->10823\n",
            "216->11039\n",
            "219->11258\n",
            "220->11478\n",
            "222->11700\n",
            "225->11925\n",
            "228->12153\n",
            "230->12383\n",
            "231->12614\n",
            "234->12848\n",
            "235->13083\n",
            "237->13320\n",
            "240->13560\n",
            "243->13803\n",
            "245->14048\n",
            "246->14294\n",
            "249->14543\n",
            "250->14793\n",
            "252->15045\n",
            "255->15300\n",
            "258->15558\n",
            "260->15818\n",
            "261->16079\n",
            "264->16343\n",
            "265->16608\n",
            "267->16875\n",
            "270->17145\n",
            "273->17418\n",
            "275->17693\n",
            "276->17969\n",
            "279->18248\n",
            "280->18528\n",
            "282->18810\n",
            "285->19095\n",
            "288->19383\n",
            "290->19673\n",
            "291->19964\n",
            "294->20258\n",
            "295->20553\n",
            "297->20850\n",
            "300->21150\n",
            "303->21453\n",
            "305->21758\n",
            "306->22064\n",
            "309->22373\n",
            "310->22683\n",
            "312->22995\n",
            "315->23310\n",
            "318->23628\n",
            "320->23948\n",
            "321->24269\n",
            "324->24593\n",
            "325->24918\n",
            "327->25245\n",
            "330->25575\n",
            "333->25908\n",
            "335->26243\n",
            "336->26579\n",
            "339->26918\n",
            "340->27258\n",
            "342->27600\n",
            "345->27945\n",
            "348->28293\n",
            "350->28643\n",
            "351->28994\n",
            "354->29348\n",
            "355->29703\n",
            "357->30060\n",
            "360->30420\n",
            "363->30783\n",
            "365->31148\n",
            "366->31514\n",
            "369->31883\n",
            "370->32253\n",
            "372->32625\n",
            "375->33000\n",
            "378->33378\n",
            "380->33758\n",
            "381->34139\n",
            "384->34523\n",
            "385->34908\n",
            "387->35295\n",
            "390->35685\n",
            "393->36078\n",
            "395->36473\n",
            "396->36869\n",
            "399->37268\n",
            "400->37668\n",
            "402->38070\n",
            "405->38475\n",
            "408->38883\n",
            "410->39293\n",
            "411->39704\n",
            "414->40118\n",
            "415->40533\n",
            "417->40950\n",
            "420->41370\n",
            "423->41793\n",
            "425->42218\n",
            "426->42644\n",
            "429->43073\n",
            "430->43503\n",
            "432->43935\n",
            "435->44370\n",
            "438->44808\n",
            "440->45248\n",
            "441->45689\n",
            "444->46133\n",
            "445->46578\n",
            "447->47025\n",
            "450->47475\n",
            "453->47928\n",
            "455->48383\n",
            "456->48839\n",
            "459->49298\n",
            "460->49758\n",
            "462->50220\n",
            "465->50685\n",
            "468->51153\n",
            "470->51623\n",
            "471->52094\n",
            "474->52568\n",
            "475->53043\n",
            "477->53520\n",
            "480->54000\n",
            "483->54483\n",
            "485->54968\n",
            "486->55454\n",
            "489->55943\n",
            "490->56433\n",
            "492->56925\n",
            "495->57420\n",
            "498->57918\n",
            "500->58418\n",
            "501->58919\n",
            "504->59423\n",
            "505->59928\n",
            "507->60435\n",
            "510->60945\n",
            "513->61458\n",
            "515->61973\n",
            "516->62489\n",
            "519->63008\n",
            "520->63528\n",
            "522->64050\n",
            "525->64575\n",
            "528->65103\n",
            "530->65633\n",
            "531->66164\n",
            "534->66698\n",
            "535->67233\n",
            "537->67770\n",
            "540->68310\n",
            "543->68853\n",
            "545->69398\n",
            "546->69944\n",
            "549->70493\n",
            "550->71043\n",
            "552->71595\n",
            "555->72150\n",
            "558->72708\n",
            "560->73268\n",
            "561->73829\n",
            "564->74393\n",
            "565->74958\n",
            "567->75525\n",
            "570->76095\n",
            "573->76668\n",
            "575->77243\n",
            "576->77819\n",
            "579->78398\n",
            "580->78978\n",
            "582->79560\n",
            "585->80145\n",
            "588->80733\n",
            "590->81323\n",
            "591->81914\n",
            "594->82508\n",
            "595->83103\n",
            "597->83700\n",
            "600->84300\n",
            "603->84903\n",
            "605->85508\n",
            "606->86114\n",
            "609->86723\n",
            "610->87333\n",
            "612->87945\n",
            "615->88560\n",
            "618->89178\n",
            "620->89798\n",
            "621->90419\n",
            "624->91043\n",
            "625->91668\n",
            "627->92295\n",
            "630->92925\n",
            "633->93558\n",
            "635->94193\n",
            "636->94829\n",
            "639->95468\n",
            "640->96108\n",
            "642->96750\n",
            "645->97395\n",
            "648->98043\n",
            "650->98693\n",
            "651->99344\n",
            "654->99998\n",
            "655->100653\n",
            "657->101310\n",
            "660->101970\n",
            "663->102633\n",
            "665->103298\n",
            "666->103964\n",
            "669->104633\n",
            "670->105303\n",
            "672->105975\n",
            "675->106650\n",
            "678->107328\n",
            "680->108008\n",
            "681->108689\n",
            "684->109373\n",
            "685->110058\n",
            "687->110745\n",
            "690->111435\n",
            "693->112128\n",
            "695->112823\n",
            "696->113519\n",
            "699->114218\n",
            "700->114918\n",
            "702->115620\n",
            "705->116325\n",
            "708->117033\n",
            "710->117743\n",
            "711->118454\n",
            "714->119168\n",
            "715->119883\n",
            "717->120600\n",
            "720->121320\n",
            "723->122043\n",
            "725->122768\n",
            "726->123494\n",
            "729->124223\n",
            "730->124953\n",
            "732->125685\n",
            "735->126420\n",
            "738->127158\n",
            "740->127898\n",
            "741->128639\n",
            "744->129383\n",
            "745->130128\n",
            "747->130875\n",
            "750->131625\n",
            "753->132378\n",
            "755->133133\n",
            "756->133889\n",
            "759->134648\n",
            "760->135408\n",
            "762->136170\n",
            "765->136935\n",
            "768->137703\n",
            "770->138473\n",
            "771->139244\n",
            "774->140018\n",
            "775->140793\n",
            "777->141570\n",
            "780->142350\n",
            "783->143133\n",
            "785->143918\n",
            "786->144704\n",
            "789->145493\n",
            "790->146283\n",
            "792->147075\n",
            "795->147870\n",
            "798->148668\n",
            "800->149468\n",
            "801->150269\n",
            "804->151073\n",
            "805->151878\n",
            "807->152685\n",
            "810->153495\n",
            "813->154308\n",
            "815->155123\n",
            "816->155939\n",
            "819->156758\n",
            "820->157578\n",
            "822->158400\n",
            "825->159225\n",
            "828->160053\n",
            "830->160883\n",
            "831->161714\n",
            "834->162548\n",
            "835->163383\n",
            "837->164220\n",
            "840->165060\n",
            "843->165903\n",
            "845->166748\n",
            "846->167594\n",
            "849->168443\n",
            "850->169293\n",
            "852->170145\n",
            "855->171000\n",
            "858->171858\n",
            "860->172718\n",
            "861->173579\n",
            "864->174443\n",
            "865->175308\n",
            "867->176175\n",
            "870->177045\n",
            "873->177918\n",
            "875->178793\n",
            "876->179669\n",
            "879->180548\n",
            "880->181428\n",
            "882->182310\n",
            "885->183195\n",
            "888->184083\n",
            "890->184973\n",
            "891->185864\n",
            "894->186758\n",
            "895->187653\n",
            "897->188550\n",
            "900->189450\n",
            "903->190353\n",
            "905->191258\n",
            "906->192164\n",
            "909->193073\n",
            "910->193983\n",
            "912->194895\n",
            "915->195810\n",
            "918->196728\n",
            "920->197648\n",
            "921->198569\n",
            "924->199493\n",
            "925->200418\n",
            "927->201345\n",
            "930->202275\n",
            "933->203208\n",
            "935->204143\n",
            "936->205079\n",
            "939->206018\n",
            "940->206958\n",
            "942->207900\n",
            "945->208845\n",
            "948->209793\n",
            "950->210743\n",
            "951->211694\n",
            "954->212648\n",
            "955->213603\n",
            "957->214560\n",
            "960->215520\n",
            "963->216483\n",
            "965->217448\n",
            "966->218414\n",
            "969->219383\n",
            "970->220353\n",
            "972->221325\n",
            "975->222300\n",
            "978->223278\n",
            "980->224258\n",
            "981->225239\n",
            "984->226223\n",
            "985->227208\n",
            "987->228195\n",
            "990->229185\n",
            "993->230178\n",
            "995->231173\n",
            "996->232169\n",
            "999->233168\n"
          ],
          "name": "stdout"
        }
      ]
    },
    {
      "cell_type": "markdown",
      "metadata": {
        "id": "HkwzWQihx6_q",
        "colab_type": "text"
      },
      "source": [
        "**Ödev 4:** Çift Fibonacci Sayıları\n",
        "\n",
        "Fibonaci dizisinde her yeni terim kendinden önceki iki terimin toplamından elde edilir. 1 ve 2 ile başlayarak, ilk 10 terimin Fibonacci  dizisi\n",
        "\n",
        "$$\n",
        "1,2,3,5,8,13,21,34,55,89,\\ldots\n",
        "$$\n",
        "olur. \n",
        "\n",
        "Yukarıdaki diziyi matematiksel olarak yazarsak\n",
        "\n",
        "$$\n",
        "F_n=\n",
        "\\begin{cases}\n",
        "  0, & n=0\\\\\n",
        "  1, & n=1 \\\\\n",
        "  F_{n-1}+F_{n-2}, & n> 1\n",
        "\\end{cases}\n",
        "$$\n",
        "\n",
        "\n",
        "Fibonacci dizisinde değeri  4,000,000 (4 milyon dahil)'u geçmeyen sayıya kadar çift değerli Fibonacci terimlerinin toplamını bulun. \n",
        "\n",
        "Yardım: Aşağıdaki ```Fibonacci_term(n)``` n'ninci Fibonacci terimini vermektedir. Bu fonksiyonu başka bir fonksiyon içinde kullanarak ```Fibonacci_evenSum``` çift sayıların toplamını yapın. "
      ]
    },
    {
      "cell_type": "code",
      "metadata": {
        "id": "5tS1dBKZ0-ZS",
        "colab_type": "code",
        "colab": {}
      },
      "source": [
        "def Fibonacci_term(n): \n",
        "  if (n == 1):\n",
        "    return 1\n",
        "  if (n == 2):\n",
        "    return 2\n",
        "  else:\n",
        "    return Fibonacci_term(n-1) + Fibonacci_term(n-2)\n",
        "  \n",
        "\n",
        "\n",
        "\n",
        "\n"
      ],
      "execution_count": 0,
      "outputs": []
    },
    {
      "cell_type": "code",
      "metadata": {
        "id": "O6hJeNTVBsW_",
        "colab_type": "code",
        "outputId": "006139e7-cef6-4422-bf94-cdc3cdaa62bc",
        "colab": {
          "base_uri": "https://localhost:8080/",
          "height": 34
        }
      },
      "source": [
        "Fibonacci_term(3)"
      ],
      "execution_count": 0,
      "outputs": [
        {
          "output_type": "execute_result",
          "data": {
            "text/plain": [
              "3"
            ]
          },
          "metadata": {
            "tags": []
          },
          "execution_count": 8
        }
      ]
    },
    {
      "cell_type": "code",
      "metadata": {
        "id": "Hth_Ul5DD2aF",
        "colab_type": "code",
        "outputId": "ece42aa5-55bf-474f-b970-f2c77ed550a8",
        "colab": {
          "base_uri": "https://localhost:8080/",
          "height": 35
        }
      },
      "source": [
        "Fibonacci_evenSum(10)"
      ],
      "execution_count": 0,
      "outputs": [
        {
          "output_type": "execute_result",
          "data": {
            "text/plain": [
              "44"
            ]
          },
          "metadata": {
            "tags": []
          },
          "execution_count": 79
        }
      ]
    },
    {
      "cell_type": "code",
      "metadata": {
        "id": "bEN6gf34Bueg",
        "colab_type": "code",
        "outputId": "0a06f8f1-0ff1-426b-cb0f-05a8bd59bb81",
        "colab": {
          "base_uri": "https://localhost:8080/",
          "height": 561
        }
      },
      "source": [
        "sum=0\n",
        "a=1\n",
        "b=1\n",
        "c=1\n",
        "for i in range(4000000):\n",
        "  if c<4000000:\n",
        "    c=a+b\n",
        "    a=b\n",
        "    b=c \n",
        "    print(b, end=\"->\")\n",
        "    sum+=b\n",
        "    print(sum)"
      ],
      "execution_count": 0,
      "outputs": [
        {
          "output_type": "stream",
          "text": [
            "2->2\n",
            "3->5\n",
            "5->10\n",
            "8->18\n",
            "13->31\n",
            "21->52\n",
            "34->86\n",
            "55->141\n",
            "89->230\n",
            "144->374\n",
            "233->607\n",
            "377->984\n",
            "610->1594\n",
            "987->2581\n",
            "1597->4178\n",
            "2584->6762\n",
            "4181->10943\n",
            "6765->17708\n",
            "10946->28654\n",
            "17711->46365\n",
            "28657->75022\n",
            "46368->121390\n",
            "75025->196415\n",
            "121393->317808\n",
            "196418->514226\n",
            "317811->832037\n",
            "514229->1346266\n",
            "832040->2178306\n",
            "1346269->3524575\n",
            "2178309->5702884\n",
            "3524578->9227462\n",
            "5702887->14930349\n"
          ],
          "name": "stdout"
        }
      ]
    }
  ]
}